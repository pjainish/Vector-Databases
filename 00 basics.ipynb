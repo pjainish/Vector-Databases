{
 "cells": [
  {
   "cell_type": "markdown",
   "id": "9323cbf7-3a82-4958-92bb-9e4649d1f3a1",
   "metadata": {},
   "source": [
    "##### % pip install faiss-cpu (faiss-gpu if you have gpu)\n",
    "\n",
    "Follow this for more: https://github.com/facebookresearch/faiss/blob/main/INSTALL.md"
   ]
  },
  {
   "cell_type": "code",
   "execution_count": 12,
   "id": "9f1b82ed-422c-46ee-bf9e-65944bce61be",
   "metadata": {},
   "outputs": [],
   "source": [
    "import faiss\n",
    "import torch"
   ]
  },
  {
   "cell_type": "code",
   "execution_count": 9,
   "id": "ab9fb2a4-f23f-45e9-91da-36e7bfa9f132",
   "metadata": {},
   "outputs": [],
   "source": [
    "# build a flat index\n",
    "dimention = 256\n",
    "index = faiss.IndexFlatL2(256)"
   ]
  },
  {
   "cell_type": "code",
   "execution_count": 11,
   "id": "8934298e-bab7-471f-8343-411aae7a71b6",
   "metadata": {},
   "outputs": [
    {
     "name": "stdout",
     "output_type": "stream",
     "text": [
      "True\n"
     ]
    }
   ],
   "source": [
    "print(index.is_trained)"
   ]
  },
  {
   "cell_type": "code",
   "execution_count": 13,
   "id": "79423b80-46ae-4249-94f3-21b9e120fe7e",
   "metadata": {},
   "outputs": [
    {
     "data": {
      "text/plain": [
       "torch.Size([1, 256])"
      ]
     },
     "execution_count": 13,
     "metadata": {},
     "output_type": "execute_result"
    }
   ],
   "source": [
    "entry = torch.rand(1, 256)\n",
    "entry.shape"
   ]
  },
  {
   "cell_type": "code",
   "execution_count": 14,
   "id": "37562058-a9e7-4595-8345-afa2811e6d3d",
   "metadata": {},
   "outputs": [],
   "source": [
    "index.add(entry)"
   ]
  },
  {
   "cell_type": "code",
   "execution_count": 16,
   "id": "b946b2b3-10a1-421a-82db-69ee0451c1fc",
   "metadata": {},
   "outputs": [
    {
     "data": {
      "text/plain": [
       "1"
      ]
     },
     "execution_count": 16,
     "metadata": {},
     "output_type": "execute_result"
    }
   ],
   "source": [
    "index.ntotal"
   ]
  },
  {
   "cell_type": "code",
   "execution_count": null,
   "id": "41be385e-2ab9-49c5-9fb9-221f028ffea7",
   "metadata": {},
   "outputs": [],
   "source": []
  }
 ],
 "metadata": {
  "kernelspec": {
   "display_name": "Python 3 (ipykernel)",
   "language": "python",
   "name": "python3"
  },
  "language_info": {
   "codemirror_mode": {
    "name": "ipython",
    "version": 3
   },
   "file_extension": ".py",
   "mimetype": "text/x-python",
   "name": "python",
   "nbconvert_exporter": "python",
   "pygments_lexer": "ipython3",
   "version": "3.11.9"
  }
 },
 "nbformat": 4,
 "nbformat_minor": 5
}
